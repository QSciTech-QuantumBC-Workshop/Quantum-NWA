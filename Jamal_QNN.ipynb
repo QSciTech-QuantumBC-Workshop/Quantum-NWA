{
 "cells": [
  {
   "cell_type": "code",
   "execution_count": 1,
   "id": "c756835b-66c5-4bb7-a684-7cfcd5865fa3",
   "metadata": {},
   "outputs": [],
   "source": [
    "from sklearn import model_selection, datasets, svm\n",
    "from qiskit import QuantumCircuit, Aer, IBMQ, QuantumRegister, ClassicalRegister\n",
    "import qiskit\n",
    "import numpy as np\n",
    "import copy\n",
    "import matplotlib.pyplot as plt"
   ]
  },
  {
   "cell_type": "code",
   "execution_count": 2,
   "id": "99000a31-3880-4a97-9b21-b999cfec8232",
   "metadata": {},
   "outputs": [],
   "source": [
    "iris = datasets.load_iris()\n",
    "X = iris.data[0:100]\n",
    "Y = iris.target[0:100]\n",
    "X_train, X_test, Y_train, Y_test = model_selection.train_test_split(X, Y, train_size=0.8, random_state=42)"
   ]
  },
  {
   "cell_type": "code",
   "execution_count": 3,
   "id": "637fe353-ee6c-4e4f-9be2-c51a8a78fefe",
   "metadata": {},
   "outputs": [],
   "source": [
    "N = 4"
   ]
  },
  {
   "cell_type": "code",
   "execution_count": 4,
   "id": "0c5fe7ee-a0f8-4643-9e0a-944422a13570",
   "metadata": {},
   "outputs": [],
   "source": [
    "def feature_map(X) :\n",
    "    q = QuantumRegister(N)\n",
    "    c = ClassicalRegister(1)\n",
    "    qc = QuantumCircuit(q,c)\n",
    "    \n",
    "    for i, x in enumerate(X) :\n",
    "        qc.rx(x, i)\n",
    "        \n",
    "    return qc, c"
   ]
  },
  {
   "cell_type": "code",
   "execution_count": 5,
   "id": "d2a4216a-be26-44b5-97ba-344cfe708c4b",
   "metadata": {},
   "outputs": [],
   "source": [
    "def variational_circuit(qc, theta):\n",
    "    \n",
    "    for i in range(N-1):\n",
    "        qc.cnot(i, i+1)\n",
    "    qc.cnot(N-1, 0)\n",
    "    for i in range(N):\n",
    "        qc.ry(theta[i], i)\n",
    "    return qc"
   ]
  },
  {
   "cell_type": "code",
   "execution_count": 6,
   "id": "1bd1c1a6-5a53-44c5-a431-5e12c9c6854f",
   "metadata": {},
   "outputs": [],
   "source": [
    "#from qiskit.primitives import Sampler\n",
    "#from qiskit_ibm_runtime import QiskitRuntimeService, Sampler, Options\n",
    "#service = QiskitRuntimeService(channel=\"ibm_quantum\")\n",
    "#backend = service.backend(\"ibm_quebec\")\n",
    "#options = Options(resilience_level = 1) # 1 = measurement error mitigation\n",
    "#sampler = Sampler(backend)"
   ]
  },
  {
   "cell_type": "code",
   "execution_count": 7,
   "id": "5de6a2ac-d0d1-4f99-ba0d-0a9a69cf0824",
   "metadata": {},
   "outputs": [],
   "source": [
    "def quantum_nn(X, theta, simulator=True):\n",
    "    \n",
    "    qc, c = feature_map(X)\n",
    "    qc = variational_circuit(qc, theta)\n",
    "    qc.measure(0,c)\n",
    "    \n",
    "    shots = 1E4\n",
    "    backend = Aer.get_backend('qasm_simulator')\n",
    "    \n",
    "    if simulator == False:\n",
    "        \n",
    "        shots = 5000\n",
    "        #provider = IBMQ.load_account()\n",
    "        backend = service.backend(\"ibm_quebec\")\n",
    "        \n",
    "    job = qiskit.execute(qc, backend, shots=shots)\n",
    "    result = job.result()\n",
    "    counts = result.get_counts(qc)\n",
    "    \n",
    "    return(counts['1']/shots)\n",
    "\n",
    "    qc.draw('mpl')"
   ]
  },
  {
   "cell_type": "code",
   "execution_count": 8,
   "id": "d08cc446-92e8-43b7-a9f8-784ca13b4216",
   "metadata": {},
   "outputs": [],
   "source": [
    "def loss (prediction, target):\n",
    "    return (prediction - target)**2"
   ]
  },
  {
   "cell_type": "code",
   "execution_count": 9,
   "id": "d0e730d5-e3cc-4a66-b7c2-0ff2f0c2ebc1",
   "metadata": {},
   "outputs": [],
   "source": [
    "def gradient(X, Y, theta):\n",
    "    \n",
    "    delta = 0.01\n",
    "    grad = []\n",
    "    for i in range(len(theta)):\n",
    "        \n",
    "        dtheta = copy.copy(theta)\n",
    "        dtheta[i] += delta\n",
    "        \n",
    "        pred1 = quantum_nn(X, dtheta)\n",
    "        pred2 = quantum_nn(X, theta)\n",
    "        \n",
    "        grad.append((loss(pred1, Y) - loss(pred2, Y)) / delta)\n",
    "        \n",
    "    return np.array(grad)"
   ]
  },
  {
   "cell_type": "code",
   "execution_count": 10,
   "id": "367eab83-7c65-4075-baf7-1705eb8cef62",
   "metadata": {},
   "outputs": [],
   "source": [
    "def accuracy(X, Y, theta):\n",
    "    \n",
    "    counter = 0\n",
    "    for X_i, Y_i in zip(X, Y):\n",
    "        \n",
    "        prediction = quantum_nn(X_i, theta)\n",
    "        \n",
    "        if prediction < 0.5 and Y_i == 0:\n",
    "            counter += 1\n",
    "        elif prediction >= 0.5 and Y_i == 1:\n",
    "            counter += 1\n",
    "            \n",
    "    return counter/len(Y)"
   ]
  },
  {
   "cell_type": "code",
   "execution_count": 11,
   "id": "0607d333-ca8f-4b86-acc6-a4ba34c7fbcf",
   "metadata": {},
   "outputs": [
    {
     "name": "stdout",
     "output_type": "stream",
     "text": [
      "Epoch \t Loss \t Training Accuracy\n"
     ]
    },
    {
     "name": "stderr",
     "output_type": "stream",
     "text": [
      "C:\\Users\\Asus\\AppData\\Local\\Temp\\ipykernel_20924\\2434704148.py:4: DeprecationWarning: The method ``qiskit.circuit.quantumcircuit.QuantumCircuit.cnot()`` is deprecated as of qiskit 0.45.0. It will be removed no earlier than 3 months after the release date. Use QuantumCircuit.cx as direct replacement.\n",
      "  qc.cnot(i, i+1)\n",
      "C:\\Users\\Asus\\AppData\\Local\\Temp\\ipykernel_20924\\2434704148.py:5: DeprecationWarning: The method ``qiskit.circuit.quantumcircuit.QuantumCircuit.cnot()`` is deprecated as of qiskit 0.45.0. It will be removed no earlier than 3 months after the release date. Use QuantumCircuit.cx as direct replacement.\n",
      "  qc.cnot(N-1, 0)\n",
      "C:\\Users\\Asus\\AppData\\Local\\Temp\\ipykernel_20924\\2434704148.py:4: DeprecationWarning: The method ``qiskit.circuit.quantumcircuit.QuantumCircuit.cnot()`` is deprecated as of qiskit 0.45.0. It will be removed no earlier than 3 months after the release date. Use QuantumCircuit.cx as direct replacement.\n",
      "  qc.cnot(i, i+1)\n",
      "C:\\Users\\Asus\\AppData\\Local\\Temp\\ipykernel_20924\\2434704148.py:5: DeprecationWarning: The method ``qiskit.circuit.quantumcircuit.QuantumCircuit.cnot()`` is deprecated as of qiskit 0.45.0. It will be removed no earlier than 3 months after the release date. Use QuantumCircuit.cx as direct replacement.\n",
      "  qc.cnot(N-1, 0)\n"
     ]
    },
    {
     "name": "stdout",
     "output_type": "stream",
     "text": [
      "0 \t 0.258 \t 0.800\n",
      "1 \t 0.234 \t 0.863\n",
      "2 \t 0.215 \t 0.838\n",
      "3 \t 0.208 \t 0.812\n",
      "4 \t 0.206 \t 0.812\n",
      "5 \t 0.211 \t 0.825\n",
      "6 \t 0.212 \t 0.812\n",
      "7 \t 0.205 \t 0.825\n",
      "8 \t 0.204 \t 0.838\n",
      "9 \t 0.216 \t 0.838\n",
      "10 \t 0.225 \t 0.800\n",
      "11 \t 0.223 \t 0.750\n",
      "12 \t 0.240 \t 0.750\n",
      "13 \t 0.259 \t 0.412\n",
      "14 \t 0.247 \t 0.787\n",
      "15 \t 0.217 \t 0.812\n",
      "16 \t 0.208 \t 0.800\n",
      "17 \t 0.207 \t 0.825\n",
      "18 \t 0.202 \t 0.812\n",
      "19 \t 0.202 \t 0.838\n",
      "20 \t 0.207 \t 0.787\n",
      "21 \t 0.217 \t 0.787\n",
      "22 \t 0.217 \t 0.850\n",
      "23 \t 0.234 \t 0.750\n",
      "24 \t 0.211 \t 0.800\n",
      "25 \t 0.209 \t 0.812\n",
      "26 \t 0.209 \t 0.838\n",
      "27 \t 0.204 \t 0.812\n",
      "28 \t 0.203 \t 0.787\n",
      "29 \t 0.203 \t 0.800\n",
      "30 \t 0.206 \t 0.825\n",
      "31 \t 0.205 \t 0.825\n",
      "32 \t 0.203 \t 0.800\n",
      "33 \t 0.203 \t 0.825\n",
      "34 \t 0.207 \t 0.838\n",
      "35 \t 0.207 \t 0.787\n",
      "36 \t 0.206 \t 0.800\n",
      "37 \t 0.204 \t 0.812\n",
      "38 \t 0.202 \t 0.825\n",
      "39 \t 0.203 \t 0.825\n",
      "40 \t 0.203 \t 0.812\n",
      "41 \t 0.204 \t 0.825\n",
      "42 \t 0.203 \t 0.812\n",
      "43 \t 0.202 \t 0.800\n",
      "44 \t 0.205 \t 0.787\n",
      "45 \t 0.204 \t 0.825\n",
      "46 \t 0.204 \t 0.787\n",
      "47 \t 0.204 \t 0.800\n",
      "48 \t 0.203 \t 0.800\n",
      "49 \t 0.203 \t 0.825\n"
     ]
    }
   ],
   "source": [
    "eta = 0.075\n",
    "loss_list = []\n",
    "theta = np.ones(N)\n",
    "\n",
    "print('Epoch \\t Loss \\t Training Accuracy')\n",
    "\n",
    "for i in range(50):\n",
    "    \n",
    "    loss_tmp = []\n",
    "    for X_i, Y_i in zip(X_train, Y_train):\n",
    "\n",
    "        prediction = quantum_nn(X_i, theta)\n",
    "        loss_tmp.append(loss(prediction, Y_i))\n",
    "        theta = theta - eta * gradient(X_i, Y_i, theta)\n",
    "        \n",
    "    loss_list.append(np.mean(loss_tmp))\n",
    "    acc_train = accuracy(X_train, Y_train, theta)\n",
    "    \n",
    "    print(f'{i} \\t {loss_list[-1]:.3f} \\t {acc_train:.3f}')"
   ]
  },
  {
   "cell_type": "code",
   "execution_count": 12,
   "id": "c7143545-fc9e-4edd-8894-9d9f6758db1c",
   "metadata": {},
   "outputs": [
    {
     "data": {
      "image/png": "[encoded data removed]",
      "text/plain": [
       "<Figure size 640x480 with 1 Axes>"
      ]
     },
     "metadata": {},
     "output_type": "display_data"
    }
   ],
   "source": [
    "plt.plot(loss_list)\n",
    "plt.xlabel('Epoch')\n",
    "plt.ylabel('Loss')\n",
    "plt.show()"
   ]
  },
  {
   "cell_type": "code",
   "execution_count": 13,
   "id": "a2c662fb-07b0-406e-9a3d-7318bc28473f",
   "metadata": {},
   "outputs": [
    {
     "name": "stderr",
     "output_type": "stream",
     "text": [
      "C:\\Users\\Asus\\AppData\\Local\\Temp\\ipykernel_20924\\2434704148.py:4: DeprecationWarning: The method ``qiskit.circuit.quantumcircuit.QuantumCircuit.cnot()`` is deprecated as of qiskit 0.45.0. It will be removed no earlier than 3 months after the release date. Use QuantumCircuit.cx as direct replacement.\n",
      "  qc.cnot(i, i+1)\n",
      "C:\\Users\\Asus\\AppData\\Local\\Temp\\ipykernel_20924\\2434704148.py:5: DeprecationWarning: The method ``qiskit.circuit.quantumcircuit.QuantumCircuit.cnot()`` is deprecated as of qiskit 0.45.0. It will be removed no earlier than 3 months after the release date. Use QuantumCircuit.cx as direct replacement.\n",
      "  qc.cnot(N-1, 0)\n"
     ]
    },
    {
     "name": "stdout",
     "output_type": "stream",
     "text": [
      "QNN classification train score: 0.825\n",
      "QNN classification test score: 0.8\n"
     ]
    }
   ],
   "source": [
    "acc_test = accuracy(X_test, Y_test, theta)\n",
    "print(f\"QNN classification train score: {acc_train}\")\n",
    "print(f\"QNN classification test score: {acc_test}\")"
   ]
  }
 ],
 "metadata": {
  "kernelspec": {
   "display_name": "Python 3 (ipykernel)",
   "language": "python",
   "name": "python3"
  },
  "language_info": {
   "codemirror_mode": {
    "name": "ipython",
    "version": 3
   },
   "file_extension": ".py",
   "mimetype": "text/x-python",
   "name": "python",
   "nbconvert_exporter": "python",
   "pygments_lexer": "ipython3",
   "version": "3.10.2"
  }
 },
 "nbformat": 4,
 "nbformat_minor": 5
}
