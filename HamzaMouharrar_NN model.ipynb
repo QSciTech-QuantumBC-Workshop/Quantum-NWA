{
  "nbformat": 4,
  "nbformat_minor": 0,
  "metadata": {
    "colab": {
      "provenance": []
    },
    "kernelspec": {
      "name": "python3",
      "display_name": "Python 3"
    },
    "language_info": {
      "name": "python"
    }
  },
  "cells": [
    {
      "cell_type": "code",
      "execution_count": 1,
      "metadata": {
        "id": "ZgxXe40S7Cft"
      },
      "outputs": [],
      "source": [
        "# Libraries\n",
        "import torch\n",
        "import torch.nn as nn\n",
        "from sklearn.datasets import load_iris\n",
        "from sklearn.model_selection import train_test_split\n",
        "import torch.nn.functional as f\n",
        "from sklearn.metrics import accuracy_score, confusion_matrix , precision_score, recall_score, f1_score, roc_auc_score\n",
        "import matplotlib.pyplot as plt"
      ]
    },
    {
      "cell_type": "code",
      "source": [
        "# Load Iris dataset from Sklearn\n",
        "iris = load_iris()\n",
        "x = iris.data\n",
        "y = iris.target\n"
      ],
      "metadata": {
        "id": "b-idZomq7Hee"
      },
      "execution_count": 3,
      "outputs": []
    },
    {
      "cell_type": "code",
      "source": [
        "# Split dataset\n",
        "x_train, x_test, y_train, y_test = train_test_split(x, y, test_size=0.2)\n",
        "\n",
        "x_train=torch.FloatTensor(x_train)\n",
        "x_test=torch.FloatTensor(x_test)\n",
        "y_train=torch.LongTensor(y_train)\n",
        "y_test=torch.LongTensor(y_test)"
      ],
      "metadata": {
        "id": "Kw5-z_X97JUe"
      },
      "execution_count": 4,
      "outputs": []
    },
    {
      "cell_type": "code",
      "source": [
        "\n",
        "# Model Neural Network\n",
        "class model (nn.Module):\n",
        "    def __init__(self,in_feat=4,h1=12,h2=12,h3=7,out_feat=3):\n",
        "        super().__init__()\n",
        "        self.layr1=nn.Linear(in_feat,h1)\n",
        "        self.layr2=nn.Linear(h1,h2)\n",
        "        self.layr3=nn.Linear(h2,h3)\n",
        "        self.outlayr=nn.Linear(h3,out_feat)\n",
        "    def forward(self,inpts):\n",
        "        out1=f.relu(self.layr1(inpts))\n",
        "        out2=f.relu(self.layr2(out1))\n",
        "        out3=f.relu(self.layr3(out2))\n",
        "        return self.outlayr(out3)\n",
        "\n",
        "# Store Weights\n",
        "losses = []\n",
        "accuracies = []"
      ],
      "metadata": {
        "id": "hWjaixd27PfP"
      },
      "execution_count": 5,
      "outputs": []
    },
    {
      "cell_type": "code",
      "source": [
        "# Optimizer\n",
        "net = model()\n",
        "criterion = nn.CrossEntropyLoss()\n",
        "optimizer = torch.optim.SGD(net.parameters(), lr=0.005) # lr = learning rate"
      ],
      "metadata": {
        "id": "tzVrm7Qn84ew"
      },
      "execution_count": 6,
      "outputs": []
    },
    {
      "cell_type": "code",
      "source": [
        "# Training\n",
        "for epoch in range(30000):\n",
        "    optimizer.zero_grad()\n",
        "    outputs = net(x_train)\n",
        "    loss = criterion(outputs, y_train)\n",
        "    loss.backward()\n",
        "    optimizer.step()\n",
        "\n",
        "    if (epoch + 1) % 5000 == 0:\n",
        "        print(f'Epoch [{epoch + 1}], Loss: {loss.item():.4f}')\n",
        "\n",
        "    with torch.no_grad():\n",
        "        test_outputs = net(x_test)\n",
        "        _, predicted = torch.max(test_outputs, 1)\n",
        "        accuracy = accuracy_score(y_test, predicted)\n",
        "        accuracies.append(accuracy)\n",
        "\n",
        "    losses.append(loss.item())"
      ],
      "metadata": {
        "colab": {
          "base_uri": "https://localhost:8080/"
        },
        "id": "L_ruCrST86qG",
        "outputId": "6a03d5ab-eeaa-4f77-c47a-7fda5c0892ab"
      },
      "execution_count": 7,
      "outputs": [
        {
          "output_type": "stream",
          "name": "stdout",
          "text": [
            "Epoch [5000], Loss: 0.0378\n",
            "Epoch [10000], Loss: 0.0292\n",
            "Epoch [15000], Loss: 0.0258\n",
            "Epoch [20000], Loss: 0.0230\n",
            "Epoch [25000], Loss: 0.0206\n",
            "Epoch [30000], Loss: 0.0220\n"
          ]
        }
      ]
    },
    {
      "cell_type": "code",
      "source": [],
      "metadata": {
        "id": "cUOvItUq9OLf"
      },
      "execution_count": null,
      "outputs": []
    }
  ]
}