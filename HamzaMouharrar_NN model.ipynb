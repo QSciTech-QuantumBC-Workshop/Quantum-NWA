{
  "nbformat": 4,
  "nbformat_minor": 0,
  "metadata": {
    "colab": {
      "provenance": []
    },
    "kernelspec": {
      "name": "python3",
      "display_name": "Python 3"
    },
    "language_info": {
      "name": "python"
    }
  },
  "cells": [
    {
      "cell_type": "code",
      "execution_count": 1,
      "metadata": {
        "id": "ZgxXe40S7Cft"
      },
      "outputs": [],
      "source": [
        "# Libraries\n",
        "import torch\n",
        "import torch.nn as nn\n",
        "from sklearn.datasets import load_iris\n",
        "from sklearn.model_selection import train_test_split\n",
        "import torch.nn.functional as f\n",
        "from sklearn.metrics import accuracy_score, confusion_matrix , precision_score, recall_score, f1_score, roc_auc_score\n",
        "import matplotlib.pyplot as plt"
      ]
    },
    {
      "cell_type": "code",
      "source": [
        "# Load Iris dataset from Sklearn\n",
        "iris = load_iris()\n",
        "x = iris.data\n",
        "y = iris.target\n"
      ],
      "metadata": {
        "id": "b-idZomq7Hee"
      },
      "execution_count": 3,
      "outputs": []
    },
    {
      "cell_type": "code",
      "source": [
        "# Split dataset\n",
        "x_train, x_test, y_train, y_test = train_test_split(x, y, test_size=0.2)\n",
        "\n",
        "x_train=torch.FloatTensor(x_train)\n",
        "x_test=torch.FloatTensor(x_test)\n",
        "y_train=torch.LongTensor(y_train)\n",
        "y_test=torch.LongTensor(y_test)"
      ],
      "metadata": {
        "id": "Kw5-z_X97JUe"
      },
      "execution_count": 4,
      "outputs": []
    },
    {
      "cell_type": "code",
      "source": [],
      "metadata": {
        "id": "hWjaixd27PfP"
      },
      "execution_count": null,
      "outputs": []
    }
  ]
}